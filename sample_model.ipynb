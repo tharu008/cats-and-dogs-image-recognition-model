{
  "nbformat": 4,
  "nbformat_minor": 0,
  "metadata": {
    "colab": {
      "provenance": []
    },
    "kernelspec": {
      "name": "python3",
      "display_name": "Python 3"
    },
    "language_info": {
      "name": "python"
    }
  },
  "cells": [
    {
      "cell_type": "code",
      "execution_count": 11,
      "metadata": {
        "colab": {
          "base_uri": "https://localhost:8080/"
        },
        "id": "mircW0p95prM",
        "outputId": "f96a099c-7e84-44fe-f4cd-fa42c170cc8b"
      },
      "outputs": [
        {
          "output_type": "stream",
          "name": "stdout",
          "text": [
            "--2023-07-19 06:50:21--  https://storage.googleapis.com/mledu-datasets/cats_and_dogs_filtered.zip\n",
            "Resolving storage.googleapis.com (storage.googleapis.com)... 172.217.203.128, 172.253.123.128, 74.125.134.128, ...\n",
            "Connecting to storage.googleapis.com (storage.googleapis.com)|172.217.203.128|:443... connected.\n",
            "HTTP request sent, awaiting response... 200 OK\n",
            "Length: 68606236 (65M) [application/zip]\n",
            "Saving to: ‘/tmp/cats_and_dogs_filtered.zip’\n",
            "\n",
            "/tmp/cats_and_dogs_ 100%[===================>]  65.43M   181MB/s    in 0.4s    \n",
            "\n",
            "2023-07-19 06:50:21 (181 MB/s) - ‘/tmp/cats_and_dogs_filtered.zip’ saved [68606236/68606236]\n",
            "\n"
          ]
        }
      ],
      "source": [
        "!wget --no-check-certificate \\\n",
        "    https://storage.googleapis.com/mledu-datasets/cats_and_dogs_filtered.zip \\\n",
        "    -O /tmp/cats_and_dogs_filtered.zip"
      ]
    },
    {
      "cell_type": "markdown",
      "source": [
        "the content of the zip is extracted to the base directory /tmp/cats_and_dogs_filtered.zip. The extracted file contains training and validation data separately, which in turn each contain cats and dogs.\n",
        "\n"
      ],
      "metadata": {
        "id": "p3mYIppW7WPn"
      }
    },
    {
      "cell_type": "code",
      "source": [
        "import os   #provides functions for interacting with the operating system\n",
        "import zipfile\n",
        "\n",
        "#unzipping files\n",
        "local_zip = '/tmp/cats_and_dogs_filtered.zip'\n",
        "zip_ref = zipfile.ZipFile(local_zip, 'r')\n",
        "zip_ref.extractall('/tmp')\n",
        "zip_ref.close()"
      ],
      "metadata": {
        "id": "z_jFWvce3lKN"
      },
      "execution_count": 12,
      "outputs": []
    },
    {
      "cell_type": "markdown",
      "source": [
        "Defining each sub directory"
      ],
      "metadata": {
        "id": "NC_wUtLX8Kwj"
      }
    },
    {
      "cell_type": "code",
      "source": [
        "base_dir = '/tmp/cats_and_dogs_filtered'\n",
        "train_dir = os.path.join(base_dir, 'train')\n",
        "validation_dir = os.path.join(base_dir, 'validation')\n",
        "\n",
        "#directory with training cat images\n",
        "train_cat_dir = os.path.join(train_dir, 'cats')\n",
        "\n",
        "#directory with training dog images\n",
        "train_dog_dir = os.path.join(train_dir, 'dogs')\n",
        "\n",
        "#directory with validation cat images\n",
        "validation_cat_dir = os.path.join(validation_dir, 'cats')\n",
        "\n",
        "#directory with training cat images\n",
        "validation_dog_dir = os.path.join(validation_dir, 'dogs')\n"
      ],
      "metadata": {
        "id": "xxxD0KNX8J_R"
      },
      "execution_count": 13,
      "outputs": []
    }
  ]
}